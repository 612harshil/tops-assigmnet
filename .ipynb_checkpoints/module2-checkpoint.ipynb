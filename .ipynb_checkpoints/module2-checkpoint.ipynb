{
 "cells": [
  {
   "cell_type": "code",
   "execution_count": 7,
   "id": "2bd24809",
   "metadata": {},
   "outputs": [
    {
     "name": "stdout",
     "output_type": "stream",
     "text": [
      "0\n",
      "0\n",
      "0\n",
      "6\n"
     ]
    }
   ],
   "source": [
    "# write a python program to sum of three given integer. however, if two value are equal sum will be zero.\n",
    "def sum_three(x,y,z):\n",
    "    if x == y or y == z or x==z:\n",
    "        sum = 0\n",
    "    else:\n",
    "        sum = x + y + z\n",
    "    return sum\n",
    "print(sum_three(2, 1, 2))\n",
    "print(sum_three(3, 2, 2))\n",
    "print(sum_three(2, 2, 2))\n",
    "print(sum_three(1, 2, 3))"
   ]
  },
  {
   "cell_type": "code",
   "execution_count": 13,
   "id": "83ba0366",
   "metadata": {},
   "outputs": [
    {
     "name": "stdout",
     "output_type": "stream",
     "text": [
      "enter a number10\n",
      "enter a number15\n",
      "False\n"
     ]
    }
   ],
   "source": [
    "# write a puthon program that will return true if thetwo given integer vaulue are equal or their sum of difference is 5.\n",
    "a=int(input(\"enter a number\"))\n",
    "b=int(input(\"enter a number\"))\n",
    "if a==b or (a+b)==5 or (a-b)==5:\n",
    "    print(\"True\")\n",
    "else:\n",
    "    print(\"False\")"
   ]
  },
  {
   "cell_type": "code",
   "execution_count": 12,
   "id": "ea4081c6",
   "metadata": {},
   "outputs": [
    {
     "name": "stdout",
     "output_type": "stream",
     "text": [
      "enter your number10\n",
      "55.0\n"
     ]
    }
   ],
   "source": [
    "# write python program to sum of first n positive integer.\n",
    "n=int(input(\"enter your number\"))\n",
    "sum_1=(n*(n+1))/2\n",
    "print(sum_1)"
   ]
  },
  {
   "cell_type": "code",
   "execution_count": 19,
   "id": "03bc76f9",
   "metadata": {},
   "outputs": [
    {
     "name": "stdout",
     "output_type": "stream",
     "text": [
      "11\n"
     ]
    }
   ],
   "source": [
    "# write python program to calculate the length of srting.\n",
    "str1=\"hello world\"\n",
    "print(len(str1))"
   ]
  },
  {
   "cell_type": "code",
   "execution_count": 29,
   "id": "cc61a269",
   "metadata": {},
   "outputs": [
    {
     "name": "stdout",
     "output_type": "stream",
     "text": [
      "total number of character is:10\n"
     ]
    }
   ],
   "source": [
    "# write python program to count the number of character in a string.\n",
    "srt1=\"hello world\"\n",
    "count=0\n",
    "for i in range(0,len(str1)):\n",
    "        if(str1[i]!=' '):\n",
    "            count = count + 1\n",
    "print(\"total number of character is:\"+str(count))           "
   ]
  },
  {
   "cell_type": "code",
   "execution_count": 30,
   "id": "4539cf09",
   "metadata": {},
   "outputs": [],
   "source": [
    "# what are negative indexes and why are they used?\n",
    "#Negative Indexing is used to in Python to begin slicing from the end of the string i.e. \n",
    "#the last. Slicing in Python gets a sub-string from a string. The slicing range is set as parameters i.e. start, stop and step."
   ]
  },
  {
   "cell_type": "code",
   "execution_count": 3,
   "id": "be5afb7c",
   "metadata": {},
   "outputs": [
    {
     "name": "stdout",
     "output_type": "stream",
     "text": [
      "2\n"
     ]
    }
   ],
   "source": [
    "# write python program to count the occurence of a substring in a string.\n",
    "str1=\"hello world, its so beautiful world\"\n",
    "print(str1.count(\"world\"))"
   ]
  },
  {
   "cell_type": "code",
   "execution_count": 5,
   "id": "a6c845f5",
   "metadata": {},
   "outputs": [
    {
     "name": "stdout",
     "output_type": "stream",
     "text": [
      "{'To': 2, 'change': 2, 'the': 3, 'overall': 1, 'look': 2, 'your': 1, 'document.': 1, 'available': 1, 'in': 1, 'gallery': 1}\n"
     ]
    }
   ],
   "source": [
    "# write a python program to find the occurence of each word in a given sentence.\n",
    "str = \"To change the overall look your document. To change the look available in the gallery\"\n",
    "c = dict()\n",
    "txt = str.split(\" \")\n",
    "for t in txt:\n",
    "    if t in c:\n",
    "        c[t] += 1\n",
    "    else:\n",
    "        c[t] = 1\n",
    "print(c)"
   ]
  },
  {
   "cell_type": "code",
   "execution_count": 14,
   "id": "b9e392ab",
   "metadata": {},
   "outputs": [
    {
     "name": "stdout",
     "output_type": "stream",
     "text": [
      "Before Swap : abc   xyz\n",
      "After Swap : xyc   abz\n"
     ]
    }
   ],
   "source": [
    "# write a python program to get a singlr string from to two two given string,seperated by a space and a swap the first two\n",
    "# character of each string.\n",
    "a = 'abc'\n",
    "b = 'xyz'\n",
    "print(\"Before Swap :\",a,\" \",b)\n",
    "a1 = b[:2] + a[2:]\n",
    "b1 = a[:2] + b[2:]\n",
    "print(\"After Swap :\",a1,\" \",b1)"
   ]
  },
  {
   "cell_type": "code",
   "execution_count": 18,
   "id": "9517933d",
   "metadata": {},
   "outputs": [
    {
     "name": "stdout",
     "output_type": "stream",
     "text": [
      "joke\n",
      "jokeing\n"
     ]
    }
   ],
   "source": [
    "# Write a Python program to add 'ing' at the end of a given string (length should be at least 3). \n",
    "# If the given string already ends with 'ing' then add 'ly' instead if the string length of the given string is less than 3,\n",
    "# leave it unchanged.\n",
    "string = input()\n",
    "if len(string) < 3:\n",
    "  print(string)\n",
    "elif string[-3:] == 'ing':\n",
    "  print(string + 'ly')\n",
    "else:\n",
    "  print(string + 'ing')"
   ]
  },
  {
   "cell_type": "code",
   "execution_count": 19,
   "id": "932f4774",
   "metadata": {},
   "outputs": [
    {
     "name": "stdout",
     "output_type": "stream",
     "text": [
      "The lyrics is good!\n",
      "The lyrics is poor!\n"
     ]
    }
   ],
   "source": [
    "# Write a Python program to find the first appearance of the substring 'not' and 'poor' from a given string, if 'not' \n",
    "# follows the 'poor', replace the whole 'not'...'poor' substring with 'good'. Return the resulting string.\n",
    "def not_poor(str1):\n",
    "  snot = str1.find('not')\n",
    "  spoor = str1.find('poor')\n",
    "  \n",
    "\n",
    "  if spoor > snot and snot>0 and spoor>0:\n",
    "    str1 = str1.replace(str1[snot:(spoor+4)], 'good')\n",
    "    return str1\n",
    "  else:\n",
    "    return str1\n",
    "print(not_poor('The lyrics is not that poor!'))\n",
    "print(not_poor('The lyrics is poor!'))"
   ]
  },
  {
   "cell_type": "code",
   "execution_count": 20,
   "id": "e3f5fd22",
   "metadata": {},
   "outputs": [],
   "source": [
    "# Write a Python function that takes a list of words and returns the length of the longest one.\n",
    "list1[\"fdsfvsdgdrtb\",\"fesbsen\",\"dfgbrrnhhbgsdfghgfd\",\"tufhgndjt\"]\n",
    "list2[]\n"
   ]
  },
  {
   "cell_type": "code",
   "execution_count": 22,
   "id": "e566ec97",
   "metadata": {},
   "outputs": [
    {
     "name": "stdout",
     "output_type": "stream",
     "text": [
      "enter a name:harshilk\n",
      "klihsrah\n"
     ]
    }
   ],
   "source": [
    "# Write a Python function to reverses a string if its length is a multiple of 4.\n",
    "name=input(\"enter a name:\")\n",
    "\n",
    "if(len(name)%4==0):\n",
    "    print(name[::-1])\n",
    "else:\n",
    "    print(\"cant\")"
   ]
  },
  {
   "cell_type": "code",
   "execution_count": 26,
   "id": "06248fe4",
   "metadata": {},
   "outputs": [
    {
     "name": "stdout",
     "output_type": "stream",
     "text": [
      "Enter string:harshil\n",
      "Newly formed string is:\n",
      "hail\n"
     ]
    }
   ],
   "source": [
    "# Write a Python program to get a string made of the first 2 and the last 2 chars from a given a string. \n",
    "# If the string length is less than 2, return instead of the empty string.\n",
    "string=input(\"Enter string:\")\n",
    "count=0\n",
    "for i in string:\n",
    "      count=count+1\n",
    "new=string[0:2]+string[count-2:count]\n",
    "print(\"Newly formed string is:\")\n",
    "print(new)"
   ]
  },
  {
   "cell_type": "code",
   "execution_count": 27,
   "id": "a48a8671",
   "metadata": {},
   "outputs": [],
   "source": [
    "# Write a Python function to insert a string in the middle of a string\n"
   ]
  }
 ],
 "metadata": {
  "kernelspec": {
   "display_name": "Python 3 (ipykernel)",
   "language": "python",
   "name": "python3"
  },
  "language_info": {
   "codemirror_mode": {
    "name": "ipython",
    "version": 3
   },
   "file_extension": ".py",
   "mimetype": "text/x-python",
   "name": "python",
   "nbconvert_exporter": "python",
   "pygments_lexer": "ipython3",
   "version": "3.9.12"
  }
 },
 "nbformat": 4,
 "nbformat_minor": 5
}
