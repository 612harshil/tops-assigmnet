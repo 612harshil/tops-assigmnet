{
 "cells": [
  {
   "cell_type": "markdown",
   "id": "1b9aa90d",
   "metadata": {},
   "source": [
    "write python program to create table function take one number paramenter and this function wil create a table for thar number."
   ]
  },
  {
   "cell_type": "code",
   "execution_count": 8,
   "id": "d2b8b348",
   "metadata": {},
   "outputs": [
    {
     "name": "stdout",
     "output_type": "stream",
     "text": [
      "enter a number5\n",
      "5 * 1 = 5\n",
      "5 * 2 = 10\n",
      "5 * 3 = 15\n",
      "5 * 4 = 20\n",
      "5 * 5 = 25\n",
      "5 * 6 = 30\n",
      "5 * 7 = 35\n",
      "5 * 8 = 40\n",
      "5 * 9 = 45\n",
      "5 * 10 = 50\n"
     ]
    }
   ],
   "source": [
    "def table(a):\n",
    "    for i in range(1,11):\n",
    "        print(a,'*',i,'=',a*i)\n",
    "a=int(input(\"enter a number\"))\n",
    "table(a)"
   ]
  },
  {
   "cell_type": "code",
   "execution_count": null,
   "id": "19d27b61",
   "metadata": {},
   "outputs": [],
   "source": [
    "student={}\n",
    "name=input(\"enter your name: \")\n",
    "age=int(inpit(\"enter your age: \"))\n",
    "roll=int(input(\"enter rollno\"))\n",
    "demo={}\n",
    "demo.update({age:roll})\n",
    "student.update({name:demo})\n",
    "print(student)"
   ]
  },
  {
   "cell_type": "code",
   "execution_count": null,
   "id": "8be5b08d",
   "metadata": {},
   "outputs": [],
   "source": []
  }
 ],
 "metadata": {
  "kernelspec": {
   "display_name": "Python 3 (ipykernel)",
   "language": "python",
   "name": "python3"
  },
  "language_info": {
   "codemirror_mode": {
    "name": "ipython",
    "version": 3
   },
   "file_extension": ".py",
   "mimetype": "text/x-python",
   "name": "python",
   "nbconvert_exporter": "python",
   "pygments_lexer": "ipython3",
   "version": "3.9.12"
  }
 },
 "nbformat": 4,
 "nbformat_minor": 5
}
