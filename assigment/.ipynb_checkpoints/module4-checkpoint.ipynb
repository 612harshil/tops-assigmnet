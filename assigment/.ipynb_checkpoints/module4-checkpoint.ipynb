{
 "cells": [
  {
   "cell_type": "markdown",
   "id": "9c352f5b",
   "metadata": {},
   "source": [
    "What is File function in python? What is keywords to create and write file.\n",
    "r – stands for Read – This keyword opens the file for reading. If the file is not present in the system, an error will be given. w – stands for Write – This keyword opens the file for writing. It can create a non-existing file. x – stands for Create – This keyword is used to create the respective file."
   ]
  },
  {
   "cell_type": "code",
   "execution_count": 1,
   "id": "26422682",
   "metadata": {},
   "outputs": [],
   "source": [
    "# Write a Python program to read an entire text file. \n",
    "# Opening and Closing a file \"MyFile.txt\"\n",
    "# for object name file1.\n",
    "file1 = open(\"assesment.txt\",\"a\")\n",
    "file1.close()"
   ]
  },
  {
   "cell_type": "code",
   "execution_count": 1,
   "id": "edf812c8",
   "metadata": {},
   "outputs": [],
   "source": [
    "# Write a Python program to append text to a file and display the text.\n",
    "file1 = open(\"myfile.txt\", \"a\")  # append mode\n",
    "file1.write(\"Today \\n\")\n",
    "file1.close()"
   ]
  },
  {
   "cell_type": "code",
   "execution_count": 2,
   "id": "c78b43ad",
   "metadata": {},
   "outputs": [],
   "source": [
    "# Write a Python program to read first n lines of a file.\n",
    "# input text file\n",
    "inputFile = \"ExampleTextFile.txt\"\n",
    "# Enter N value\n",
    "N = int(input(\"Enter N value: \"))\n",
    "# Opening the given file in read-only mode\n",
    "with open(inputFile, 'r') as filedata:\n",
    "# Read the file lines using readlines()\n",
    "linesList= filedata.readlines()\n",
    "print(\"The following are the first\",N,\"lines of a text file:\")\n",
    "# Traverse in the list of lines to retrieve the first N lines of a file\n",
    "for textline in (linesList[:N]):\n",
    "# Printing the first N lines of the file line by line.\n",
    "print(textline, end ='')\n",
    "# Closing the input file\n",
    "filedata.close()"
   ]
  },
  {
   "cell_type": "code",
   "execution_count": 1,
   "id": "234460ff",
   "metadata": {},
   "outputs": [
    {
     "ename": "IndentationError",
     "evalue": "expected an indented block (2360424639.py, line 3)",
     "output_type": "error",
     "traceback": [
      "\u001b[1;36m  Input \u001b[1;32mIn [1]\u001b[1;36m\u001b[0m\n\u001b[1;33m    lines = [line for line in f]\u001b[0m\n\u001b[1;37m    ^\u001b[0m\n\u001b[1;31mIndentationError\u001b[0m\u001b[1;31m:\u001b[0m expected an indented block\n"
     ]
    }
   ],
   "source": [
    "# Write a Python program to read a file line by line and store it into a list\n",
    "with open('myfile.txt') as f:\n",
    "lines = [line for line in f]\n",
    "print(lines)\n",
    "# removing the new line characters\n",
    "with open('myfile.txt') as f:\n",
    "lines = [line.rstrip() for line in f]\n",
    "print(lines)"
   ]
  },
  {
   "cell_type": "code",
   "execution_count": null,
   "id": "ea9267a6",
   "metadata": {},
   "outputs": [],
   "source": [
    "# Write a Python program to read a file line by line store it into a variable. \n",
    "def file_read(fname):\n",
    "with open (fname, \"r\") as myfile:\n",
    "data=myfile.readlines()\n",
    "print(data)\n",
    "file_read('test.txt')\n"
   ]
  },
  {
   "cell_type": "code",
   "execution_count": null,
   "id": "8a0faa80",
   "metadata": {},
   "outputs": [],
   "source": [
    "# Write a python program to find the longest words. \n",
    "def longest_word(filename):\n",
    "with open(filename, 'r') as infile:\n",
    "words = infile.read().split()\n",
    "max_len = len(max(words, key=len))\n",
    "return [word for word in words if len(word) == max_len]\n",
    "print(longest_word('test.txt'))"
   ]
  },
  {
   "cell_type": "code",
   "execution_count": null,
   "id": "5d38c337",
   "metadata": {},
   "outputs": [],
   "source": [
    "# Write a Python program to count the number of lines in a text file.\n",
    "with open(r\"myfile.txt\", 'r') as fp:\n",
    "lines = len(fp.readlines())\n",
    "print('Total Number of lines:', lines)"
   ]
  },
  {
   "cell_type": "code",
   "execution_count": null,
   "id": "c4e8e5d3",
   "metadata": {},
   "outputs": [],
   "source": [
    "# Write a Python program to count the frequency of words in a file.\n",
    "# creating variable to store the\n",
    "# number of words\n",
    "number_of_words = 0\n",
    "# Opening our text file in read only\n",
    "# mode using the open() function\n",
    "with open(r'SampleFile.txt','r') as file:\n",
    "# Reading the content of the file\n",
    "# using the read() function and storing\n",
    "# them in a new variable\n",
    "data = file.read()\n",
    "# Splitting the data into separate lines\n",
    "# using the split() function\n",
    "lines = data.split()\n",
    "# Iterating over every word in\n",
    "# lines\n",
    "for word in lines:\n",
    "# checking if the word is numeric or not\n",
    "if not word.isnumeric():\n",
    "# Adding the length of the\n",
    "# lines in our number_of_words\n",
    "# variable\n",
    "number_of_words += 1\n",
    "# Printing total number of words\n",
    "print(number_of_words)"
   ]
  },
  {
   "cell_type": "code",
   "execution_count": null,
   "id": "1f281bf9",
   "metadata": {},
   "outputs": [],
   "source": [
    "# Write a Python program to write a list to a file.\n",
    "L = [\"Geeks\\n\", \"for\\n\", \"Geeks\\n\"]\n",
    "# writing to file\n",
    "file1 = open('myfile.txt', 'w')\n",
    "file1.writelines(L)\n",
    "file1.close()"
   ]
  },
  {
   "cell_type": "code",
   "execution_count": null,
   "id": "c50604f3",
   "metadata": {},
   "outputs": [],
   "source": [
    "# Write a Python program to copy the contents of a file to another file. \n",
    "# open both files\n",
    "with open('first.txt','r') as firstfile, open('second.txt','a') as secondfile:\n",
    "# read content from first file\n",
    "for line in firstfile:\n",
    "# append content to second file\n",
    "secondfile.write(line)"
   ]
  },
  {
   "cell_type": "markdown",
   "id": "4d7cd254",
   "metadata": {},
   "source": [
    "# Explain Exception handling? What is an Error in Python?\n",
    "<!-- In Python, there are several built-in exceptions that can be raised when an error occurs during the execution of a program. Here are some of the most common types of exceptions in Python:\n",
    "SyntaxError: This exception is raised when the interpreter encounters a syntax error in the code, such as a misspelled keyword, a missing colon, or an unbalanced parenthesis.\n",
    "TypeError: This exception is raised when an operation or function is applied to an object of the wrong type, such as adding a string to an integer.\n",
    "NameError: This exception is raised when a variable or function name is not found in the current scope.\n",
    "IndexError: This exception is raised when an index is out of range for a list, tuple, or other sequence types.\n",
    "KeyError: This exception is raised when a key is not found in a dictionary.\n",
    "ValueError: This exception is raised when a function or method is called with an invalid argument or input, such as trying to convert a string to an integer when the string does not represent a valid integer.\n",
    "AttributeError: This exception is raised when an attribute or method is not found on an object, such as trying to access a non-existent attribute of a class instance.\n",
    "IOError: This exception is raised when an I/O operation, such as reading or writing a file, fails due to an input/output error.\n",
    "ZeroDivisionError: This exception is raised when an attempt is made to divide a number by zero.\n",
    "ImportError: This exception is raised when an import statement fails to find or load a module. -->"
   ]
  },
  {
   "cell_type": "code",
   "execution_count": null,
   "id": "7cb775c4",
   "metadata": {},
   "outputs": [],
   "source": [
    "# How many except statements can a try-except block have? Name Some built-in exception classes:\n",
    "# The try block lets you test a block of code for errors.\n",
    "# The except block lets you handle the error.\n",
    "# The else block lets you execute code when there is no error.\n",
    "# The finally block lets you execute code, regardless of the result of the try- and except blocks."
   ]
  },
  {
   "cell_type": "code",
   "execution_count": 2,
   "id": "5bf6ada2",
   "metadata": {},
   "outputs": [
    {
     "ename": "ZeroDivisionError",
     "evalue": "division by zero",
     "output_type": "error",
     "traceback": [
      "\u001b[1;31m---------------------------------------------------------------------------\u001b[0m",
      "\u001b[1;31mZeroDivisionError\u001b[0m                         Traceback (most recent call last)",
      "Input \u001b[1;32mIn [2]\u001b[0m, in \u001b[0;36m<cell line: 7>\u001b[1;34m()\u001b[0m\n\u001b[0;32m      5\u001b[0m a \u001b[38;5;241m=\u001b[39m \u001b[38;5;241m5\u001b[39m\n\u001b[0;32m      6\u001b[0m b \u001b[38;5;241m=\u001b[39m \u001b[38;5;241m0\u001b[39m\n\u001b[1;32m----> 7\u001b[0m \u001b[38;5;28mprint\u001b[39m(\u001b[43ma\u001b[49m\u001b[38;5;241;43m/\u001b[39;49m\u001b[43mb\u001b[49m)\n",
      "\u001b[1;31mZeroDivisionError\u001b[0m: division by zero"
     ]
    }
   ],
   "source": [
    "# When will the else part of try-except-else be executed?\n",
    "# An Exception is an Event, which occurs during the execution of the program. It is also known as \n",
    "# a run time error. When that error occurs, Python generates an exception during the execution and that \n",
    "# can be handled, which avoids your program to interrupt.\n",
    "a = 5\n",
    "b = 0\n",
    "print(a/b)"
   ]
  },
  {
   "cell_type": "code",
   "execution_count": 8,
   "id": "08b9914d",
   "metadata": {},
   "outputs": [
    {
     "ename": "NameError",
     "evalue": "name 'URLError' is not defined",
     "output_type": "error",
     "traceback": [
      "\u001b[1;31m---------------------------------------------------------------------------\u001b[0m",
      "\u001b[1;31mNameError\u001b[0m                                 Traceback (most recent call last)",
      "Input \u001b[1;32mIn [8]\u001b[0m, in \u001b[0;36m<cell line: 6>\u001b[1;34m()\u001b[0m\n\u001b[0;32m      6\u001b[0m \u001b[38;5;28;01mtry\u001b[39;00m:\n\u001b[1;32m----> 7\u001b[0m     \u001b[43mclient_obj\u001b[49m\u001b[38;5;241m.\u001b[39mget_url(url)\n\u001b[0;32m      8\u001b[0m \u001b[38;5;28;01mexcept\u001b[39;00m (URLError, \u001b[38;5;167;01mValueError\u001b[39;00m, SocketTimeout):\n",
      "\u001b[1;31mNameError\u001b[0m: name 'client_obj' is not defined",
      "\nDuring handling of the above exception, another exception occurred:\n",
      "\u001b[1;31mNameError\u001b[0m                                 Traceback (most recent call last)",
      "Input \u001b[1;32mIn [8]\u001b[0m, in \u001b[0;36m<cell line: 6>\u001b[1;34m()\u001b[0m\n\u001b[0;32m      6\u001b[0m \u001b[38;5;28;01mtry\u001b[39;00m:\n\u001b[0;32m      7\u001b[0m     client_obj\u001b[38;5;241m.\u001b[39mget_url(url)\n\u001b[1;32m----> 8\u001b[0m \u001b[38;5;28;01mexcept\u001b[39;00m (\u001b[43mURLError\u001b[49m, \u001b[38;5;167;01mValueError\u001b[39;00m, SocketTimeout):\n\u001b[0;32m      9\u001b[0m     client_obj\u001b[38;5;241m.\u001b[39mremove_url(url)\n",
      "\u001b[1;31mNameError\u001b[0m: name 'URLError' is not defined"
     ]
    }
   ],
   "source": [
    "# Can one block of except statements handle multiple exception?\n",
    "# Given a piece of code that can throw any of several different exceptions, and one needs to account for all of the \n",
    "# potential exceptions that could be raised without creating duplicate code or long, meandering code passages.\n",
    "# If you can handle different exceptions all using a single block of code, they can be grouped together in a tuple as shown in \n",
    "# the...\n",
    "try:\n",
    "    client_obj.get_url(url)\n",
    "except (URLError, ValueError, SocketTimeout):\n",
    "    client_obj.remove_url(url)"
   ]
  },
  {
   "cell_type": "code",
   "execution_count": null,
   "id": "9ba8ea86",
   "metadata": {},
   "outputs": [],
   "source": [
    "# When is the finally block executed? \n",
    "# The finally Block The finally block always executes when the try block exits. \n",
    "# This ensures that the finally block is executed even if an unexpected exception occurs."
   ]
  },
  {
   "cell_type": "code",
   "execution_count": 7,
   "id": "2f5e968e",
   "metadata": {},
   "outputs": [
    {
     "name": "stdout",
     "output_type": "stream",
     "text": [
      "Yeah ! Your answer is : 1\n",
      "This is always executed\n",
      "Sorry ! You are dividing by zero \n",
      "This is always executed\n"
     ]
    }
   ],
   "source": [
    "# How Do You Handle Exceptions With Try/Except/Finally In Python? Explain with coding snippets.\n",
    "# An Exception is an Event, which occurs during the execution of the program. \n",
    "# It is also known as a run time error. When that error occurs, Python generates an exception during the execution and that \n",
    "# can be handled, which avoids your program to interrupt.\n",
    "# Python code to illustrate\n",
    "# working of try()\n",
    "def divide(x, y):\n",
    "    try:\n",
    "# Floor Division : Gives only Fractional\n",
    "# Part as Answer\n",
    "        result = x // y\n",
    "    except ZeroDivisionError:\n",
    "        print(\"Sorry ! You are dividing by zero \")\n",
    "    else:\n",
    "        print(\"Yeah ! Your answer is :\", result)\n",
    "    finally:\n",
    "# this block is always executed\n",
    "# regardless of exception generation.\n",
    "        print('This is always executed')\n",
    "# Look at parameters and note the working of Program\n",
    "divide(3, 2)\n",
    "divide(3, 0)"
   ]
  },
  {
   "cell_type": "code",
   "execution_count": 3,
   "id": "1f40beec",
   "metadata": {},
   "outputs": [],
   "source": [
    "# What are oops concepts? Is multiple inheritance supported in java \n",
    "# When one class extends more than one classes then this is called multiple inheritance. For example:\n",
    "# Class C extends class A and B then this type of inheritance is known as multiple inheritance. \n",
    "# Java doesn’t allow multiple inheritance."
   ]
  },
  {
   "cell_type": "code",
   "execution_count": 5,
   "id": "df011e9f",
   "metadata": {},
   "outputs": [
    {
     "name": "stdout",
     "output_type": "stream",
     "text": [
      "Address of self =  2005953972016\n",
      "Address of class object =  2005953972016\n"
     ]
    }
   ],
   "source": [
    "# How to Define a Class in Python? What Is Self? Give An Example Of A Python Class\n",
    "# self represents the instance of the class. By using the “self”  we can access the attributes and methods of the class in \n",
    "# python. It binds the attributes with the given arguments.\n",
    "#it is clearly seen that self and obj is referring to the same object\n",
    "\n",
    "class check:\n",
    "    def __init__(self):\n",
    "        print(\"Address of self = \",id(self))\n",
    "obj = check()\n",
    "print(\"Address of class object = \",id(obj))"
   ]
  },
  {
   "cell_type": "code",
   "execution_count": 4,
   "id": "1a7b2815",
   "metadata": {},
   "outputs": [
    {
     "name": "stdout",
     "output_type": "stream",
     "text": [
      "120\n"
     ]
    }
   ],
   "source": [
    "# Write a Python class named Rectangle constructed by a length and width and a method which will compute the area of a rectangle\n",
    "class Rectangle():\n",
    "    def __init__(self, l, w):\n",
    "        self.length = l\n",
    "        self.width  = w\n",
    "\n",
    "    def rectangle_area(self):\n",
    "        return self.length*self.width\n",
    "\n",
    "newRectangle = Rectangle(12, 10)\n",
    "print(newRectangle.rectangle_area())"
   ]
  },
  {
   "cell_type": "code",
   "execution_count": 9,
   "id": "cf418fbd",
   "metadata": {},
   "outputs": [
    {
     "name": "stdout",
     "output_type": "stream",
     "text": [
      "200.96\n",
      "50.24\n"
     ]
    }
   ],
   "source": [
    "# Write a Python class named Circle constructed by a radius and two methods which will compute the area and the perimeter of a \n",
    "# circle \n",
    "class Circle():\n",
    "    def __init__(self, r):\n",
    "        self.radius = r\n",
    "\n",
    "    def area(self):\n",
    "        return self.radius**2*3.14\n",
    "    \n",
    "    def perimeter(self):\n",
    "        return 2*self.radius*3.14\n",
    "\n",
    "NewCircle = Circle(8)\n",
    "print(NewCircle.area())\n",
    "print(NewCircle.perimeter())"
   ]
  },
  {
   "cell_type": "code",
   "execution_count": null,
   "id": "466a186f",
   "metadata": {},
   "outputs": [],
   "source": [
    "# Explain Inheritance in Python with an example? What is init? Or What Is A Constructor In Python?\n",
    "# One of the core concepts in object-oriented programming (OOP) languages is inheritance. \n",
    "# It is a mechanism that allows you to create a hierarchy of classes that share a set of properties and methods by deriving a \n",
    "# class from another class. Inheritance is the capability of one class to derive or inherit the properties from another class. "
   ]
  },
  {
   "cell_type": "code",
   "execution_count": 10,
   "id": "64eed4cc",
   "metadata": {},
   "outputs": [],
   "source": [
    "# What is Instantiation in terms of OOP terminology\n",
    "# In computer science, instantiation is the realization of a predefined object. In OOP (object-oriented programming), a class of \n",
    "# object may be defined. An instance of that object may then be declared, giving it a unique, named identity so that it may be\n",
    "# used in the program. This process is called “instantiation.”"
   ]
  },
  {
   "cell_type": "code",
   "execution_count": 12,
   "id": "a98b2cce",
   "metadata": {},
   "outputs": [
    {
     "name": "stdout",
     "output_type": "stream",
     "text": [
      "obj is class\n",
      "obj is instance of class\n"
     ]
    }
   ],
   "source": [
    "# What is used to check whether an object o is an instance of class A? \n",
    "def check(obj, cls):\n",
    "\n",
    "    if obj is cls:\n",
    "        print('obj is class')\n",
    "\n",
    "    elif isinstance(obj, cls):\n",
    "        print('obj is instance of class')\n",
    "\n",
    "class Test:\n",
    "  pass\n",
    "\n",
    "u = Test\n",
    "check(u,Test)\n",
    "\n",
    "i = Test()\n",
    "check(i, Test)"
   ]
  },
  {
   "cell_type": "code",
   "execution_count": null,
   "id": "3337c4b2",
   "metadata": {},
   "outputs": [],
   "source": [
    "# What relationship is appropriate for Course and Faculty? "
   ]
  },
  {
   "cell_type": "code",
   "execution_count": null,
   "id": "724d4a7f",
   "metadata": {},
   "outputs": [],
   "source": [
    "# What relationship is appropriate for Student and Person?"
   ]
  }
 ],
 "metadata": {
  "kernelspec": {
   "display_name": "Python 3 (ipykernel)",
   "language": "python",
   "name": "python3"
  },
  "language_info": {
   "codemirror_mode": {
    "name": "ipython",
    "version": 3
   },
   "file_extension": ".py",
   "mimetype": "text/x-python",
   "name": "python",
   "nbconvert_exporter": "python",
   "pygments_lexer": "ipython3",
   "version": "3.9.12"
  }
 },
 "nbformat": 4,
 "nbformat_minor": 5
}
