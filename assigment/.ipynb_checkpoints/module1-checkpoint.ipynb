{
 "cells": [
  {
   "cell_type": "code",
   "execution_count": 1,
   "id": "a818964c",
   "metadata": {},
   "outputs": [
    {
     "data": {
      "text/plain": [
       "'\\nwhat is software?\\nSoftware is a set of computer programs and associated documentation and data. \\nThis is in contrast to hardware, from which the system is built and which actually performs the work.\\n'"
      ]
     },
     "execution_count": 1,
     "metadata": {},
     "output_type": "execute_result"
    }
   ],
   "source": [
    "\"\"\"\n",
    "what is software?\n",
    "Software is a set of computer programs and associated documentation and data. \n",
    "This is in contrast to hardware, from which the system is built and which actually performs the work.\n",
    "\"\"\""
   ]
  },
  {
   "cell_type": "code",
   "execution_count": 2,
   "id": "970b52a7",
   "metadata": {},
   "outputs": [
    {
     "data": {
      "text/plain": [
       "' \\nwhat are the types of application?\\nSoftware Development Life Cycle (SDLC) is a process used by the software industry to design, \\ndevelop and test high quality softwares. The SDLC aims to produce a high-quality software that\\nmeets or exceeds customer expectations, reaches completion within times and cost estimates.\\n'"
      ]
     },
     "execution_count": 2,
     "metadata": {},
     "output_type": "execute_result"
    }
   ],
   "source": [
    "\"\"\" \n",
    "what are the types of application?\n",
    "Software Development Life Cycle (SDLC) is a process used by the software industry to design, \n",
    "develop and test high quality softwares. The SDLC aims to produce a high-quality software that\n",
    "meets or exceeds customer expectations, reaches completion within times and cost estimates.\n",
    "\"\"\""
   ]
  },
  {
   "cell_type": "code",
   "execution_count": 3,
   "id": "2b921f56",
   "metadata": {},
   "outputs": [
    {
     "data": {
      "text/plain": [
       "'\\nwhat is programming?\\nProgramming is the process of creating a set of instructions that tell a computer how to perform a task.\\nProgramming can be done using a variety of computer programming languages, such as JavaScript, Python, and C++.\\n'"
      ]
     },
     "execution_count": 3,
     "metadata": {},
     "output_type": "execute_result"
    }
   ],
   "source": [
    "\"\"\"\n",
    "what is programming?\n",
    "Programming is the process of creating a set of instructions that tell a computer how to perform a task.\n",
    "Programming can be done using a variety of computer programming languages, such as JavaScript, Python, and C++.\n",
    "\"\"\""
   ]
  },
  {
   "cell_type": "code",
   "execution_count": 4,
   "id": "246be430",
   "metadata": {},
   "outputs": [
    {
     "data": {
      "text/plain": [
       "'what is python?\\nPython is an interpreted, object-oriented, \\nhigh-level programming language with dynamic semantics developed by Guido van Rossum. It was originally released in 1991.\\n'"
      ]
     },
     "execution_count": 4,
     "metadata": {},
     "output_type": "execute_result"
    }
   ],
   "source": [
    "\"\"\"\n",
    "what is python?\n",
    "Python is an interpreted, object-oriented, \n",
    "high-level programming language with dynamic semantics developed by Guido van Rossum. It was originally released in 1991.\n",
    "\"\"\""
   ]
  },
  {
   "cell_type": "code",
   "execution_count": 14,
   "id": "527b4a87",
   "metadata": {},
   "outputs": [
    {
     "name": "stdout",
     "output_type": "stream",
     "text": [
      "enter your number-8\n",
      "your number is negative\n"
     ]
    }
   ],
   "source": [
    "# write a program to check if a number is positive, negative or zero\n",
    "n=int(input(\"enter your number\"))\n",
    "if n>0:\n",
    "    print(\"your number is positive\")\n",
    "elif n==0: \n",
    "    print(\"number is zero\")\n",
    "else :\n",
    "    print(\"your number is negative\")"
   ]
  },
  {
   "cell_type": "code",
   "execution_count": 22,
   "id": "a2ff5860",
   "metadata": {},
   "outputs": [
    {
     "name": "stdout",
     "output_type": "stream",
     "text": [
      "enter your number5\n",
      "the factorial is 5 is 1\n",
      "the factorial is 5 is 2\n",
      "the factorial is 5 is 6\n",
      "the factorial is 5 is 24\n",
      "the factorial is 5 is 120\n"
     ]
    }
   ],
   "source": [
    "# write a python program to get the factorial number of givrn number?\n",
    "n=int(input(\"enter your number\"))\n",
    "factorial = 1\n",
    "if n < 0:\n",
    "    print(\"factorial of given number do not exist\")\n",
    "elif n == 0:\n",
    "    print(\"factorial of 0 is 1\")\n",
    "else :\n",
    "    for i in range(1,n+1):\n",
    "        factorial = factorial*i\n",
    "        print(\"the factorial is\",n,\"is\",factorial)"
   ]
  },
  {
   "cell_type": "code",
   "execution_count": 1,
   "id": "126f6ef1",
   "metadata": {},
   "outputs": [
    {
     "name": "stdout",
     "output_type": "stream",
     "text": [
      "enter your number5\n",
      "fibonacci series of given number is \n",
      "0\n",
      "1\n",
      "1\n",
      "2\n",
      "3\n"
     ]
    }
   ],
   "source": [
    "#write a program to fibonacci series of givrn number?\n",
    "n=int(input(\"enter your number\"))\n",
    "n1 = 0\n",
    "n2 = 1\n",
    "count = 0\n",
    "if n <= 0:\n",
    "    print(\"number is negative please enter valid number\")\n",
    "elif n ==1:\n",
    "    print(n1)\n",
    "else :\n",
    "    print(\"fibonacci series of given number is \")\n",
    "while count < n:\n",
    "    print(n1)\n",
    "    N=n1+n2\n",
    "    n1 = n2\n",
    "    n2 = N\n",
    "    count+=1"
   ]
  },
  {
   "cell_type": "code",
   "execution_count": null,
   "id": "c5411950",
   "metadata": {},
   "outputs": [],
   "source": [
    "#write a program to fibonacci series of givrn number?\n",
    "n=int(input(\"enter your number\"))\n",
    "n1 = 0\n",
    "n2 = 1\n",
    "count = 0\n",
    "while count <= 0:\n",
    "    print(\"number is negative please enter valid number\")\n",
    "if n == 1:\n",
    "    print(n1)\n",
    "else :\n",
    "    print(\"fibonacci series of given number is \")\n",
    "    N = n1 + n2\n",
    "    n1 = n2\n",
    "    n2 = N\n",
    "    count+=1"
   ]
  },
  {
   "cell_type": "code",
   "execution_count": 3,
   "id": "fa0cdb8e",
   "metadata": {},
   "outputs": [
    {
     "name": "stdout",
     "output_type": "stream",
     "text": [
      "enter yous number3\n",
      "number is odd\n"
     ]
    }
   ],
   "source": [
    "#write program to find given number is odd or even\n",
    "n=int(input(\"enter yous number\"))\n",
    "if n%2 == 0:\n",
    "    print(\"numner is even\")\n",
    "else :\n",
    "    print(\"number is odd\")"
   ]
  },
  {
   "cell_type": "code",
   "execution_count": 14,
   "id": "f7e0cad8",
   "metadata": {},
   "outputs": [
    {
     "name": "stdout",
     "output_type": "stream",
     "text": [
      "enter your letterb\n",
      "consonant\n"
     ]
    }
   ],
   "source": [
    "#write program to finf wheater given letter is vowel or not\n",
    "n=input(\"enter your letter\")\n",
    "if (n == 'A' or n == 'E' or n == \"I\" or  n == 'O' or  n == 'U'\n",
    "    or  n == 'a' or n == 'e' or n == \"i\" or  n == 'o' or  n == 'u'):\n",
    "    print(\"vowel\")\n",
    "else :\n",
    "    print(\"consonant\")"
   ]
  },
  {
   "cell_type": "code",
   "execution_count": null,
   "id": "b4651e83",
   "metadata": {},
   "outputs": [],
   "source": []
  }
 ],
 "metadata": {
  "kernelspec": {
   "display_name": "Python 3 (ipykernel)",
   "language": "python",
   "name": "python3"
  },
  "language_info": {
   "codemirror_mode": {
    "name": "ipython",
    "version": 3
   },
   "file_extension": ".py",
   "mimetype": "text/x-python",
   "name": "python",
   "nbconvert_exporter": "python",
   "pygments_lexer": "ipython3",
   "version": "3.9.12"
  }
 },
 "nbformat": 4,
 "nbformat_minor": 5
}
