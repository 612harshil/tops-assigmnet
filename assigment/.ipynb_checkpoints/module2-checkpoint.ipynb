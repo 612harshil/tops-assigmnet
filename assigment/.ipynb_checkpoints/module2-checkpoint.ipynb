{
 "cells": [
  {
   "cell_type": "code",
   "execution_count": 7,
   "id": "2bd24809",
   "metadata": {},
   "outputs": [
    {
     "name": "stdout",
     "output_type": "stream",
     "text": [
      "0\n",
      "0\n",
      "0\n",
      "6\n"
     ]
    }
   ],
   "source": [
    "# write a python program to sum of three given integer. however, if two value are equal sum will be zero.\n",
    "def sum_three(x,y,z):\n",
    "    if x == y or y == z or x==z:\n",
    "        sum = 0\n",
    "    else:\n",
    "        sum = x + y + z\n",
    "    return sum\n",
    "print(sum_three(2, 1, 2))\n",
    "print(sum_three(3, 2, 2))\n",
    "print(sum_three(2, 2, 2))\n",
    "print(sum_three(1, 2, 3))"
   ]
  },
  {
   "cell_type": "code",
   "execution_count": 8,
   "id": "83ba0366",
   "metadata": {},
   "outputs": [],
   "source": [
    "# write a puthon program that will return true if thetwo given integer vaulue are equal or their sum of difference is 5.\n"
   ]
  },
  {
   "cell_type": "code",
   "execution_count": 12,
   "id": "ea4081c6",
   "metadata": {},
   "outputs": [
    {
     "name": "stdout",
     "output_type": "stream",
     "text": [
      "enter your number10\n",
      "55.0\n"
     ]
    }
   ],
   "source": [
    "# write python program to sum of first n positive integer.\n",
    "n=int(input(\"enter your number\"))\n",
    "sum_1=(n*(n+1))/2\n",
    "print(sum_1)"
   ]
  },
  {
   "cell_type": "code",
   "execution_count": 19,
   "id": "03bc76f9",
   "metadata": {},
   "outputs": [
    {
     "name": "stdout",
     "output_type": "stream",
     "text": [
      "11\n"
     ]
    }
   ],
   "source": [
    "# write python program to calculate the length of srting.\n",
    "str1=\"hello world\"\n",
    "print(len(str1))"
   ]
  },
  {
   "cell_type": "code",
   "execution_count": 29,
   "id": "cc61a269",
   "metadata": {},
   "outputs": [
    {
     "name": "stdout",
     "output_type": "stream",
     "text": [
      "total number of character is:10\n"
     ]
    }
   ],
   "source": [
    "# write python program to count the number of character in a string.\n",
    "srt1=\"hello world\"\n",
    "count=0\n",
    "for i in range(0,len(str1)):\n",
    "        if(str1[i]!=' '):\n",
    "            count = count + 1\n",
    "print(\"total number of character is:\"+str(count))           "
   ]
  },
  {
   "cell_type": "code",
   "execution_count": 30,
   "id": "4539cf09",
   "metadata": {},
   "outputs": [],
   "source": [
    "# what are negative indexes and why are they used?\n",
    "#Negative Indexing is used to in Python to begin slicing from the end of the string i.e. \n",
    "#the last. Slicing in Python gets a sub-string from a string. The slicing range is set as parameters i.e. start, stop and step."
   ]
  },
  {
   "cell_type": "code",
   "execution_count": null,
   "id": "be5afb7c",
   "metadata": {},
   "outputs": [],
   "source": [
    "# write python program to count the occurence of a substring in a string.\n"
   ]
  }
 ],
 "metadata": {
  "kernelspec": {
   "display_name": "Python 3 (ipykernel)",
   "language": "python",
   "name": "python3"
  },
  "language_info": {
   "codemirror_mode": {
    "name": "ipython",
    "version": 3
   },
   "file_extension": ".py",
   "mimetype": "text/x-python",
   "name": "python",
   "nbconvert_exporter": "python",
   "pygments_lexer": "ipython3",
   "version": "3.9.12"
  }
 },
 "nbformat": 4,
 "nbformat_minor": 5
}
